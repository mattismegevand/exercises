{
  "cells": [
    {
      "cell_type": "code",
      "execution_count": 1,
      "metadata": {
        "id": "3mSgx0SXLvMz"
      },
      "outputs": [],
      "source": [
        "import torch\n",
        "import torch.nn as nn\n",
        "\n",
        "from torchvision import datasets, transforms, models\n",
        "from torch.utils.data import DataLoader\n",
        "\n",
        "from tqdm import tqdm"
      ]
    },
    {
      "cell_type": "code",
      "execution_count": 2,
      "metadata": {
        "colab": {
          "base_uri": "https://localhost:8080/"
        },
        "id": "wDz0pzI0bY6I",
        "outputId": "4cf1181e-86a0-4288-fed4-1edeb2cc56c9"
      },
      "outputs": [
        {
          "output_type": "execute_result",
          "data": {
            "text/plain": [
              "device(type='cuda')"
            ]
          },
          "metadata": {},
          "execution_count": 2
        }
      ],
      "source": [
        "device = torch.device(\"cuda\" if torch.cuda.is_available() else \"cpu\")\n",
        "device"
      ]
    },
    {
      "cell_type": "code",
      "execution_count": 3,
      "metadata": {
        "id": "8yZy-cnqLvM1"
      },
      "outputs": [],
      "source": [
        "batch_size = 512 if device.type == \"cuda\" else 128\n",
        "lr = 0.01\n",
        "epochs = 20"
      ]
    },
    {
      "cell_type": "code",
      "execution_count": 4,
      "metadata": {
        "id": "vlzS9v-iLvM2"
      },
      "outputs": [],
      "source": [
        "train_data = datasets.MNIST(root=\"data\", train=True, download=True, transform=transforms.ToTensor())\n",
        "test_data = datasets.MNIST(root=\"data\", train=False, download=True, transform=transforms.ToTensor())\n",
        "\n",
        "train_dataloader = DataLoader(train_data, batch_size=batch_size, shuffle=True)\n",
        "test_dataloader = DataLoader(test_data, batch_size=batch_size, shuffle=True)"
      ]
    },
    {
      "cell_type": "code",
      "execution_count": 5,
      "metadata": {
        "id": "FGtVK50dLvM3"
      },
      "outputs": [],
      "source": [
        "class Teacher(nn.Module):\n",
        "  def __init__(self, dropout=0.2):\n",
        "    super().__init__()\n",
        "    self.model = nn.Sequential(\n",
        "      nn.Dropout(p=dropout),\n",
        "      nn.Linear(784, 1024),\n",
        "      nn.ReLU(),\n",
        "      nn.Linear(1024, 1024),\n",
        "      nn.ReLU(),\n",
        "      nn.Linear(1024, 10),\n",
        "    )\n",
        "\n",
        "  def forward(self, x):\n",
        "    x = torch.flatten(x, 1)\n",
        "    return self.model(x)"
      ]
    },
    {
      "cell_type": "code",
      "execution_count": 6,
      "metadata": {
        "id": "bVn7XKAuLvM4"
      },
      "outputs": [],
      "source": [
        "teacher = Teacher().to(device)\n",
        "optimizer = torch.optim.Adam(teacher.parameters(), lr=lr)\n",
        "scheduler = torch.optim.lr_scheduler.CosineAnnealingLR(optimizer, T_max=epochs)\n",
        "loss_fn = nn.CrossEntropyLoss()"
      ]
    },
    {
      "cell_type": "code",
      "execution_count": 7,
      "metadata": {
        "colab": {
          "base_uri": "https://localhost:8080/"
        },
        "id": "nYuSrGV3LvM4",
        "outputId": "796bbee7-350e-4dec-d464-4ba7855f31cc"
      },
      "outputs": [
        {
          "output_type": "stream",
          "name": "stderr",
          "text": [
            "Epoch 1/20 Loss: 0.1984: 100%|██████████| 118/118 [00:12<00:00,  9.50it/s, acc=-1]\n",
            "Epoch 2/20 Loss: 0.2688: 100%|██████████| 118/118 [00:09<00:00, 11.92it/s, acc=0.958]\n",
            "Epoch 3/20 Loss: 0.0266: 100%|██████████| 118/118 [00:09<00:00, 12.86it/s, acc=0.964]\n",
            "Epoch 4/20 Loss: 0.1111: 100%|██████████| 118/118 [00:08<00:00, 13.43it/s, acc=0.97]\n",
            "Epoch 5/20 Loss: 0.0580: 100%|██████████| 118/118 [00:09<00:00, 12.15it/s, acc=0.974]\n",
            "Epoch 6/20 Loss: 0.0985: 100%|██████████| 118/118 [00:09<00:00, 12.14it/s, acc=0.973]\n",
            "Epoch 7/20 Loss: 0.0300: 100%|██████████| 118/118 [00:10<00:00, 11.55it/s, acc=0.976]\n",
            "Epoch 8/20 Loss: 0.0457: 100%|██████████| 118/118 [00:09<00:00, 12.11it/s, acc=0.977]\n",
            "Epoch 9/20 Loss: 0.1548: 100%|██████████| 118/118 [00:08<00:00, 13.33it/s, acc=0.979]\n",
            "Epoch 10/20 Loss: 0.0028: 100%|██████████| 118/118 [00:09<00:00, 13.07it/s, acc=0.979]\n",
            "Epoch 11/20 Loss: 0.0709: 100%|██████████| 118/118 [00:09<00:00, 12.00it/s, acc=0.979]\n",
            "Epoch 12/20 Loss: 0.0005: 100%|██████████| 118/118 [00:09<00:00, 12.07it/s, acc=0.978]\n",
            "Epoch 13/20 Loss: 0.0879: 100%|██████████| 118/118 [00:09<00:00, 12.01it/s, acc=0.98]\n",
            "Epoch 14/20 Loss: 0.0045: 100%|██████████| 118/118 [00:09<00:00, 12.73it/s, acc=0.98]\n",
            "Epoch 15/20 Loss: 0.0090: 100%|██████████| 118/118 [00:08<00:00, 13.48it/s, acc=0.982]\n",
            "Epoch 16/20 Loss: 0.0192: 100%|██████████| 118/118 [00:09<00:00, 12.40it/s, acc=0.982]\n",
            "Epoch 17/20 Loss: 0.0077: 100%|██████████| 118/118 [00:09<00:00, 12.15it/s, acc=0.982]\n",
            "Epoch 18/20 Loss: 0.0040: 100%|██████████| 118/118 [00:09<00:00, 12.15it/s, acc=0.983]\n",
            "Epoch 19/20 Loss: 0.0006: 100%|██████████| 118/118 [00:09<00:00, 12.31it/s, acc=0.983]\n",
            "Epoch 20/20 Loss: 0.0005: 100%|██████████| 118/118 [00:08<00:00, 13.23it/s, acc=0.983]\n"
          ]
        },
        {
          "output_type": "stream",
          "name": "stdout",
          "text": [
            "Final accuracy: 98.23%\n"
          ]
        }
      ],
      "source": [
        "acc = -1.\n",
        "for e in range(epochs):\n",
        "  teacher.train()\n",
        "  for x, y in (pbar := tqdm(train_dataloader)):\n",
        "    x, y = x.to(device), y.to(device)\n",
        "    optimizer.zero_grad(set_to_none=True)\n",
        "\n",
        "    out = teacher(x)\n",
        "    loss = loss_fn(out, y)\n",
        "    loss.backward()\n",
        "    optimizer.step()\n",
        "\n",
        "    pbar.set_description(f\"Epoch {e+1}/{epochs} Loss: {loss.item():.4f}\")\n",
        "    pbar.set_postfix(acc=acc)\n",
        "\n",
        "  teacher.eval()\n",
        "  with torch.no_grad():\n",
        "    total = 0\n",
        "    correct = 0\n",
        "    for x, y in test_dataloader:\n",
        "      x, y = x.to(device), y.to(device)\n",
        "      out = teacher(x)\n",
        "      _, pred = torch.max(out, dim=1)\n",
        "      total += y.size(0)\n",
        "      correct += (pred == y).sum().item()\n",
        "  acc = (correct / total)\n",
        "  scheduler.step()\n",
        "print(f\"Final accuracy: {acc*100:.2f}%\")"
      ]
    },
    {
      "cell_type": "code",
      "execution_count": 8,
      "metadata": {
        "id": "KwkfK56lLvM5"
      },
      "outputs": [],
      "source": [
        "class Student(nn.Module):\n",
        "  def __init__(self):\n",
        "    super().__init__()\n",
        "    self.model = nn.Sequential(\n",
        "      nn.Linear(784, 32),\n",
        "      nn.ReLU(),\n",
        "      nn.Linear(32, 10),\n",
        "    )\n",
        "\n",
        "  def forward(self, x):\n",
        "    x = torch.flatten(x, 1)\n",
        "    return self.model(x)"
      ]
    },
    {
      "cell_type": "code",
      "execution_count": 9,
      "metadata": {
        "id": "XZyKJD2pLvM6"
      },
      "outputs": [],
      "source": [
        "student = Student().to(device)\n",
        "optimizer = torch.optim.Adam(student.parameters(), lr=lr)\n",
        "scheduler = torch.optim.lr_scheduler.CosineAnnealingLR(optimizer, T_max=epochs)"
      ]
    },
    {
      "cell_type": "code",
      "execution_count": 10,
      "metadata": {
        "id": "nfCxE_ptbY6N",
        "colab": {
          "base_uri": "https://localhost:8080/"
        },
        "outputId": "5689ee3e-0fbc-4414-9e8b-e34ff4f5375d"
      },
      "outputs": [
        {
          "output_type": "stream",
          "name": "stderr",
          "text": [
            "Epoch 1/20 Loss: 0.3278: 100%|██████████| 118/118 [00:08<00:00, 13.17it/s, acc=-1]\n",
            "Epoch 2/20 Loss: 0.2085: 100%|██████████| 118/118 [00:09<00:00, 12.37it/s, acc=0.934]\n",
            "Epoch 3/20 Loss: 0.1641: 100%|██████████| 118/118 [00:09<00:00, 12.48it/s, acc=0.946]\n",
            "Epoch 4/20 Loss: 0.2248: 100%|██████████| 118/118 [00:09<00:00, 12.53it/s, acc=0.951]\n",
            "Epoch 5/20 Loss: 0.0870: 100%|██████████| 118/118 [00:08<00:00, 13.72it/s, acc=0.961]\n",
            "Epoch 6/20 Loss: 0.1375: 100%|██████████| 118/118 [00:08<00:00, 13.12it/s, acc=0.959]\n",
            "Epoch 7/20 Loss: 0.0729: 100%|██████████| 118/118 [00:09<00:00, 12.36it/s, acc=0.963]\n",
            "Epoch 8/20 Loss: 0.2365: 100%|██████████| 118/118 [00:09<00:00, 12.54it/s, acc=0.962]\n",
            "Epoch 9/20 Loss: 0.0217: 100%|██████████| 118/118 [00:09<00:00, 12.41it/s, acc=0.966]\n",
            "Epoch 10/20 Loss: 0.1790: 100%|██████████| 118/118 [00:08<00:00, 13.39it/s, acc=0.966]\n",
            "Epoch 11/20 Loss: 0.1003: 100%|██████████| 118/118 [00:09<00:00, 13.05it/s, acc=0.967]\n",
            "Epoch 12/20 Loss: 0.0118: 100%|██████████| 118/118 [00:09<00:00, 12.36it/s, acc=0.967]\n",
            "Epoch 13/20 Loss: 0.0765: 100%|██████████| 118/118 [00:09<00:00, 12.49it/s, acc=0.967]\n",
            "Epoch 14/20 Loss: 0.0146: 100%|██████████| 118/118 [00:09<00:00, 12.35it/s, acc=0.967]\n",
            "Epoch 15/20 Loss: 0.0258: 100%|██████████| 118/118 [00:08<00:00, 13.32it/s, acc=0.968]\n",
            "Epoch 16/20 Loss: 0.0282: 100%|██████████| 118/118 [00:08<00:00, 13.17it/s, acc=0.966]\n",
            "Epoch 17/20 Loss: 0.0775: 100%|██████████| 118/118 [00:09<00:00, 12.53it/s, acc=0.967]\n",
            "Epoch 18/20 Loss: 0.0359: 100%|██████████| 118/118 [00:09<00:00, 12.57it/s, acc=0.968]\n",
            "Epoch 19/20 Loss: 0.0234: 100%|██████████| 118/118 [00:09<00:00, 12.45it/s, acc=0.969]\n",
            "Epoch 20/20 Loss: 0.0618: 100%|██████████| 118/118 [00:08<00:00, 13.51it/s, acc=0.968]\n"
          ]
        },
        {
          "output_type": "stream",
          "name": "stdout",
          "text": [
            "Final accuracy: 96.91%\n"
          ]
        }
      ],
      "source": [
        "acc = -1.\n",
        "for e in range(epochs):\n",
        "  student.train()\n",
        "  for x, y in (pbar := tqdm(train_dataloader)):\n",
        "    x, y = x.to(device), y.to(device)\n",
        "    optimizer.zero_grad(set_to_none=True)\n",
        "\n",
        "    out = student(x)\n",
        "    loss = loss_fn(out, y)\n",
        "    loss.backward()\n",
        "    optimizer.step()\n",
        "\n",
        "    pbar.set_description(f\"Epoch {e+1}/{epochs} Loss: {loss.item():.4f}\")\n",
        "    pbar.set_postfix(acc=acc)\n",
        "\n",
        "  student.eval()\n",
        "  with torch.no_grad():\n",
        "    total = 0\n",
        "    correct = 0\n",
        "    for x, y in test_dataloader:\n",
        "      x, y = x.to(device), y.to(device)\n",
        "      out = student(x)\n",
        "      _, pred = torch.max(out, dim=1)\n",
        "      total += y.size(0)\n",
        "      correct += (pred == y).sum().item()\n",
        "  acc = (correct / total)\n",
        "  scheduler.step()\n",
        "print(f\"Final accuracy: {acc*100:.2f}%\")"
      ]
    },
    {
      "cell_type": "code",
      "execution_count": 11,
      "metadata": {
        "id": "b6iLC6OqbY6N"
      },
      "outputs": [],
      "source": [
        "teacher.eval()\n",
        "student = Student().to(device)\n",
        "optimizer = torch.optim.Adam(student.parameters(), lr=lr)\n",
        "scheduler = torch.optim.lr_scheduler.CosineAnnealingLR(optimizer, T_max=epochs)\n",
        "\n",
        "kl_div_loss = nn.KLDivLoss(reduction=\"batchmean\", log_target=True)\n",
        "\n",
        "temperature = 2\n",
        "soft_targets_weight = temperature ** 2\n",
        "hard_targets_weight = 0.5"
      ]
    },
    {
      "cell_type": "code",
      "execution_count": 12,
      "metadata": {
        "id": "DkynBU2VbY6O",
        "colab": {
          "base_uri": "https://localhost:8080/"
        },
        "outputId": "060a184a-0ad3-4cfb-fcac-9b13e35cad03"
      },
      "outputs": [
        {
          "output_type": "stream",
          "name": "stderr",
          "text": [
            "Epoch 1/20 Loss: 0.9064: 100%|██████████| 118/118 [00:09<00:00, 13.06it/s, acc=-1]\n",
            "Epoch 2/20 Loss: 0.6239: 100%|██████████| 118/118 [00:09<00:00, 12.42it/s, acc=0.969]\n",
            "Epoch 3/20 Loss: 0.4436: 100%|██████████| 118/118 [00:09<00:00, 12.24it/s, acc=0.969]\n",
            "Epoch 4/20 Loss: 0.4051: 100%|██████████| 118/118 [00:08<00:00, 13.58it/s, acc=0.969]\n",
            "Epoch 5/20 Loss: 0.7404: 100%|██████████| 118/118 [00:09<00:00, 12.31it/s, acc=0.969]\n",
            "Epoch 6/20 Loss: 0.3185: 100%|██████████| 118/118 [00:09<00:00, 12.14it/s, acc=0.965]\n",
            "Epoch 7/20 Loss: 0.3779: 100%|██████████| 118/118 [00:09<00:00, 12.36it/s, acc=0.965]\n",
            "Epoch 8/20 Loss: 0.1877: 100%|██████████| 118/118 [00:08<00:00, 13.64it/s, acc=0.965]\n",
            "Epoch 9/20 Loss: 0.3368: 100%|██████████| 118/118 [00:09<00:00, 12.26it/s, acc=0.965]\n",
            "Epoch 10/20 Loss: 0.2357: 100%|██████████| 118/118 [00:09<00:00, 12.34it/s, acc=0.965]\n",
            "Epoch 11/20 Loss: 0.2943: 100%|██████████| 118/118 [00:09<00:00, 12.83it/s, acc=0.968]\n",
            "Epoch 12/20 Loss: 0.4608: 100%|██████████| 118/118 [00:09<00:00, 12.97it/s, acc=0.968]\n",
            "Epoch 13/20 Loss: 0.3493: 100%|██████████| 118/118 [00:09<00:00, 12.19it/s, acc=0.968]\n",
            "Epoch 14/20 Loss: 0.3427: 100%|██████████| 118/118 [00:09<00:00, 12.16it/s, acc=0.968]\n",
            "Epoch 15/20 Loss: 0.2274: 100%|██████████| 118/118 [00:08<00:00, 13.73it/s, acc=0.968]\n",
            "Epoch 16/20 Loss: 0.1843: 100%|██████████| 118/118 [00:09<00:00, 12.43it/s, acc=0.971]\n",
            "Epoch 17/20 Loss: 0.1837: 100%|██████████| 118/118 [00:09<00:00, 12.19it/s, acc=0.971]\n",
            "Epoch 18/20 Loss: 0.1035: 100%|██████████| 118/118 [00:09<00:00, 12.73it/s, acc=0.971]\n",
            "Epoch 19/20 Loss: 0.3465: 100%|██████████| 118/118 [00:08<00:00, 13.15it/s, acc=0.971]\n",
            "Epoch 20/20 Loss: 0.1311: 100%|██████████| 118/118 [00:09<00:00, 12.15it/s, acc=0.971]\n"
          ]
        },
        {
          "output_type": "stream",
          "name": "stdout",
          "text": [
            "Final accuracy: 97.08%\n"
          ]
        }
      ],
      "source": [
        "acc = -1.\n",
        "for e in range(epochs):\n",
        "  student.train()\n",
        "  for x, y in (pbar := tqdm(train_dataloader)):\n",
        "    x, y = x.to(device), y.to(device)\n",
        "    optimizer.zero_grad(set_to_none=True)\n",
        "\n",
        "    with torch.no_grad():\n",
        "      teacher_logits = teacher(x)\n",
        "    out = student(x)\n",
        "\n",
        "    soft_targets = (teacher_logits / temperature).log_softmax(dim=-1)\n",
        "    soft_prob = (out / temperature).log_softmax(dim=-1)\n",
        "\n",
        "    soft_targets_loss = kl_div_loss(soft_prob, soft_targets)\n",
        "    hard_targets_loss = loss_fn(out, y)\n",
        "\n",
        "    loss = soft_targets_weight * soft_targets_loss + hard_targets_weight * hard_targets_loss\n",
        "    loss.backward()\n",
        "    optimizer.step()\n",
        "\n",
        "    pbar.set_description(f\"Epoch {e+1}/{epochs} Loss: {loss.item():.4f}\")\n",
        "    pbar.set_postfix(acc=acc)\n",
        "\n",
        "  student.eval()\n",
        "  if e % 5 == 4:\n",
        "    with torch.no_grad():\n",
        "      total = 0\n",
        "      correct = 0\n",
        "      for x, y in test_dataloader:\n",
        "        x, y = x.to(device), y.to(device)\n",
        "        out = student(x)\n",
        "        _, pred = torch.max(out, dim=1)\n",
        "        total += y.size(0)\n",
        "        correct += (pred == y).sum().item()\n",
        "  acc = (correct / total)\n",
        "  scheduler.step()\n",
        "print(f\"Final accuracy: {acc*100:.2f}%\")"
      ]
    },
    {
      "cell_type": "code",
      "execution_count": 12,
      "metadata": {
        "id": "o40im0qRbY6O"
      },
      "outputs": [],
      "source": []
    }
  ],
  "metadata": {
    "accelerator": "GPU",
    "colab": {
      "gpuType": "T4",
      "provenance": []
    },
    "kernelspec": {
      "display_name": "Python 3",
      "name": "python3"
    },
    "language_info": {
      "codemirror_mode": {
        "name": "ipython",
        "version": 3
      },
      "file_extension": ".py",
      "mimetype": "text/x-python",
      "name": "python",
      "nbconvert_exporter": "python",
      "pygments_lexer": "ipython3",
      "version": "3.10.11"
    },
    "orig_nbformat": 4
  },
  "nbformat": 4,
  "nbformat_minor": 0
}