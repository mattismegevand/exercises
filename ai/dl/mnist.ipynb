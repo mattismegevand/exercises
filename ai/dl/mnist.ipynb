{
 "cells": [
  {
   "cell_type": "code",
   "execution_count": 1,
   "metadata": {},
   "outputs": [],
   "source": [
    "import numpy as np\n",
    "import torch\n",
    "import torch.nn as nn\n",
    "from torch.utils.data import DataLoader\n",
    "from torchvision import datasets, transforms\n",
    "\n",
    "from tqdm import tqdm"
   ]
  },
  {
   "cell_type": "code",
   "execution_count": 2,
   "metadata": {},
   "outputs": [],
   "source": [
    "batch_size = 128\n",
    "lr = 0.01"
   ]
  },
  {
   "cell_type": "markdown",
   "metadata": {},
   "source": [
    "### torch version"
   ]
  },
  {
   "cell_type": "code",
   "execution_count": 3,
   "metadata": {},
   "outputs": [],
   "source": [
    "class Net(nn.Module):\n",
    "  def __init__(self):\n",
    "    super().__init__()\n",
    "    self.fc1 = nn.Linear(784, 128)\n",
    "    self.fc2 = nn.Linear(128, 10)\n",
    "\n",
    "  def forward(self, x):\n",
    "    x = nn.functional.relu(self.fc1(x))\n",
    "    x = self.fc2(x).log_softmax(dim=1)\n",
    "    return x"
   ]
  },
  {
   "cell_type": "code",
   "execution_count": 4,
   "metadata": {},
   "outputs": [],
   "source": [
    "train_data = datasets.MNIST(root=\"data\", train=True, download=True, transform=transforms.ToTensor())\n",
    "test_data = datasets.MNIST(root=\"data\", train=False, download=True, transform=transforms.ToTensor())\n",
    "\n",
    "train_dataloader = DataLoader(train_data, batch_size=batch_size, shuffle=True)\n",
    "test_dataloader = DataLoader(test_data, batch_size=batch_size, shuffle=True)"
   ]
  },
  {
   "cell_type": "code",
   "execution_count": 5,
   "metadata": {},
   "outputs": [],
   "source": [
    "model = Net()\n",
    "optim = torch.optim.SGD(model.parameters(), lr=0.01)\n",
    "loss_fn = nn.NLLLoss()"
   ]
  },
  {
   "cell_type": "code",
   "execution_count": 6,
   "metadata": {},
   "outputs": [
    {
     "name": "stderr",
     "output_type": "stream",
     "text": [
      "Epoch 1 | Loss: 1.1189: 100%|██████████| 469/469 [00:01<00:00, 268.06it/s]\n",
      "Epoch 2 | Loss: 0.5625: 100%|██████████| 469/469 [00:01<00:00, 241.73it/s]\n",
      "Epoch 3 | Loss: 0.4950: 100%|██████████| 469/469 [00:01<00:00, 251.62it/s]\n",
      "Epoch 4 | Loss: 0.5094: 100%|██████████| 469/469 [00:01<00:00, 265.46it/s]\n",
      "Epoch 5 | Loss: 0.4668: 100%|██████████| 469/469 [00:01<00:00, 276.82it/s]\n"
     ]
    }
   ],
   "source": [
    "model.train()\n",
    "for e in range(5):\n",
    "  with tqdm(train_dataloader) as pbar:\n",
    "    for i, (x, y) in enumerate(pbar):\n",
    "      x = x.view(-1, 784)\n",
    "      y_hat = model(x)\n",
    "      loss = loss_fn(y_hat, y)\n",
    "\n",
    "      optim.zero_grad(set_to_none=True)\n",
    "      loss.backward()\n",
    "      optim.step()\n",
    "  \n",
    "      if i % 50 == 0:\n",
    "        pbar.set_description(f\"Epoch {e+1} | Loss: {loss.item():.4f}\") "
   ]
  },
  {
   "cell_type": "code",
   "execution_count": 7,
   "metadata": {},
   "outputs": [
    {
     "name": "stdout",
     "output_type": "stream",
     "text": [
      "Accuracy: 0.9003\n"
     ]
    }
   ],
   "source": [
    "model.eval()\n",
    "correct = 0\n",
    "total = 0\n",
    "with torch.no_grad():\n",
    "  for x, y in test_dataloader:\n",
    "    x = x.view(-1, 784)\n",
    "    preds = model(x).argmax(dim=1)\n",
    "    correct += (preds == y).sum()\n",
    "    total += len(y)\n",
    "print(f\"Accuracy: {correct/total:.4f}\")"
   ]
  },
  {
   "cell_type": "markdown",
   "metadata": {},
   "source": [
    "### numpy version"
   ]
  },
  {
   "cell_type": "markdown",
   "metadata": {},
   "source": [
    "#### forward pass"
   ]
  },
  {
   "cell_type": "code",
   "execution_count": 8,
   "metadata": {},
   "outputs": [],
   "source": [
    "class ScratchNet():\n",
    "  def __init__(self, input_size, hidden_size, output_size):\n",
    "    self.fc1 = np.random.randn(input_size, hidden_size) / np.sqrt(input_size)\n",
    "    self.b1 = np.zeros((1, hidden_size))\n",
    "    self.fc2 = np.random.randn(hidden_size, output_size) / np.sqrt(hidden_size)\n",
    "    self.b2 = np.zeros((1, output_size))\n",
    "    self.grads = {\n",
    "      'fc1': np.zeros_like(self.fc1),\n",
    "      'b1': np.zeros_like(self.b1),\n",
    "      'fc2': np.zeros_like(self.fc2),\n",
    "      'b2': np.zeros_like(self.b2)\n",
    "    }\n",
    "  \n",
    "  def forward(self, x):\n",
    "    self.h1 = np.maximum(0, np.dot(x, self.fc1) + self.b1)\n",
    "    self.h2 = np.dot(self.h1, self.fc2) + self.b2\n",
    "    self.h2 -= np.max(self.h2, axis=1, keepdims=True)\n",
    "    self.softmaxed = np.exp(self.h2) / np.sum(np.exp(self.h2), axis=1, keepdims=True)\n",
    "    return np.log(self.softmaxed)\n",
    "\n",
    "  def backward(self, x, y):\n",
    "    dy_hat = self.softmaxed\n",
    "    dy_hat[range(y.shape[0]), y] -= 1\n",
    "    dy_hat /= y.shape[0]\n",
    "    \n",
    "    d_h2 = dy_hat\n",
    "    self.grads[\"fc2\"] = self.h1.T @ d_h2\n",
    "    self.grads[\"b2\"] = d_h2.sum(axis=0, keepdims=True)\n",
    "    d_h1 = d_h2 @ self.fc2.T\n",
    "    d_relu = d_h1 * (self.h1 > 0).astype(float)\n",
    "    self.grads[\"fc1\"] = x.T @ d_relu\n",
    "    self.grads[\"b1\"] = d_relu.sum(axis=0, keepdims=True)\n",
    "\n",
    "  def update_params(self):\n",
    "    self.fc1 -= lr * self.grads[\"fc1\"]\n",
    "    self.b1 -= lr * self.grads[\"b1\"]\n",
    "    self.fc2 -= lr * self.grads[\"fc2\"]\n",
    "    self.b2 -= lr * self.grads[\"b2\"]\n",
    "  \n",
    "  def zero_grads(self):\n",
    "    for k in self.grads.keys():\n",
    "      self.grads[k] *= 0"
   ]
  },
  {
   "cell_type": "code",
   "execution_count": 9,
   "metadata": {},
   "outputs": [],
   "source": [
    "scratch_model = ScratchNet(28*28, 128, 10)\n",
    "\n",
    "scratch_model.fc1 = model.fc1.weight.detach().numpy().T\n",
    "scratch_model.b1 = model.fc1.bias.detach().numpy().reshape(1, -1)\n",
    "scratch_model.fc2 = model.fc2.weight.detach().numpy().T\n",
    "scratch_model.b2 = model.fc2.bias.detach().numpy().reshape(1, -1)"
   ]
  },
  {
   "cell_type": "code",
   "execution_count": 10,
   "metadata": {},
   "outputs": [
    {
     "name": "stdout",
     "output_type": "stream",
     "text": [
      "Accuracy: 0.9003\n"
     ]
    }
   ],
   "source": [
    "correct = 0\n",
    "total = 0\n",
    "for x, y in test_dataloader:\n",
    "  x = x.view(-1, 784).numpy()\n",
    "  y = y.numpy()\n",
    "  preds = np.argmax(scratch_model.forward(x), axis=1)\n",
    "  correct += (preds == y).sum()\n",
    "  total += len(y)\n",
    "print(f\"Accuracy: {correct/total:.4f}\")"
   ]
  },
  {
   "cell_type": "markdown",
   "metadata": {},
   "source": [
    "#### backward pass"
   ]
  },
  {
   "cell_type": "code",
   "execution_count": 11,
   "metadata": {},
   "outputs": [],
   "source": [
    "scratch_model = ScratchNet(28*28, 128, 10)"
   ]
  },
  {
   "cell_type": "code",
   "execution_count": 12,
   "metadata": {},
   "outputs": [],
   "source": [
    "def nll_loss(y_hat, y):\n",
    "  return -y_hat[range(y.shape[0]), y].mean()"
   ]
  },
  {
   "cell_type": "code",
   "execution_count": 13,
   "metadata": {},
   "outputs": [
    {
     "name": "stderr",
     "output_type": "stream",
     "text": [
      "Epoch 1 | Loss: 0.7908: 100%|██████████| 469/469 [00:06<00:00, 77.45it/s] \n",
      "Epoch 2 | Loss: 0.5459: 100%|██████████| 469/469 [00:04<00:00, 104.73it/s]\n",
      "Epoch 3 | Loss: 0.4781: 100%|██████████| 469/469 [00:05<00:00, 80.97it/s] \n",
      "Epoch 4 | Loss: 0.5928: 100%|██████████| 469/469 [00:04<00:00, 94.90it/s] \n",
      "Epoch 5 | Loss: 0.2400: 100%|██████████| 469/469 [00:05<00:00, 83.13it/s] \n"
     ]
    }
   ],
   "source": [
    "for e in range(5):\n",
    "  with tqdm(train_dataloader) as pbar:\n",
    "    for i, (x, y) in enumerate(pbar):\n",
    "      x = x.view(-1, 784).numpy()\n",
    "      y = y.numpy()\n",
    "      y_hat = scratch_model.forward(x)\n",
    "      loss = nll_loss(y_hat, y)\n",
    "      scratch_model.backward(x, y)\n",
    "      scratch_model.update_params()\n",
    "      scratch_model.zero_grads()\n",
    "\n",
    "      if i % 50 == 0:\n",
    "        pbar.set_description(f\"Epoch {e+1} | Loss: {loss.item():.4f}\") "
   ]
  },
  {
   "cell_type": "code",
   "execution_count": 14,
   "metadata": {},
   "outputs": [
    {
     "name": "stdout",
     "output_type": "stream",
     "text": [
      "Accuracy: 0.9055\n"
     ]
    }
   ],
   "source": [
    "correct = 0\n",
    "total = 0\n",
    "for x, y in test_dataloader:\n",
    "  x = x.view(-1, 784).numpy()\n",
    "  y = y.numpy()\n",
    "  preds = np.argmax(scratch_model.forward(x), axis=1)\n",
    "  correct += (preds == y).sum()\n",
    "  total += len(y)\n",
    "print(f\"Accuracy: {correct/total:.4f}\")"
   ]
  },
  {
   "cell_type": "code",
   "execution_count": null,
   "metadata": {},
   "outputs": [],
   "source": []
  }
 ],
 "metadata": {
  "kernelspec": {
   "display_name": "m",
   "language": "python",
   "name": "python3"
  },
  "language_info": {
   "codemirror_mode": {
    "name": "ipython",
    "version": 3
   },
   "file_extension": ".py",
   "mimetype": "text/x-python",
   "name": "python",
   "nbconvert_exporter": "python",
   "pygments_lexer": "ipython3",
   "version": "3.10.12"
  },
  "orig_nbformat": 4
 },
 "nbformat": 4,
 "nbformat_minor": 2
}
