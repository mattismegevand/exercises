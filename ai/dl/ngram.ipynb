{
 "cells": [
  {
   "cell_type": "code",
   "execution_count": 1,
   "metadata": {},
   "outputs": [],
   "source": [
    "import torch\n",
    "import itertools\n",
    "from string import ascii_lowercase"
   ]
  },
  {
   "cell_type": "code",
   "execution_count": 2,
   "metadata": {},
   "outputs": [
    {
     "data": {
      "text/plain": [
       "['emma',\n",
       " 'olivia',\n",
       " 'ava',\n",
       " 'isabella',\n",
       " 'sophia',\n",
       " 'charlotte',\n",
       " 'mia',\n",
       " 'amelia',\n",
       " 'harper',\n",
       " 'evelyn']"
      ]
     },
     "execution_count": 2,
     "metadata": {},
     "output_type": "execute_result"
    }
   ],
   "source": [
    "words = open(\"data/names.txt\").read().splitlines()\n",
    "words[:10]"
   ]
  },
  {
   "cell_type": "code",
   "execution_count": 3,
   "metadata": {},
   "outputs": [
    {
     "data": {
      "text/plain": [
       "(['.', 'a', 'b', 'c', 'd', 'e', 'f', 'g', 'h', 'i'],\n",
       " ['..', '.a', '.b', '.c', '.d', '.e', '.f', '.g', '.h', '.i'])"
      ]
     },
     "execution_count": 3,
     "metadata": {},
     "output_type": "execute_result"
    }
   ],
   "source": [
    "# 2 for bigram, 3 for trigram, etc...\n",
    "block_size = 2\n",
    "\n",
    "vocab = list(\".\" + ascii_lowercase)\n",
    "vtoi = {c: i for i, c in enumerate(vocab)}\n",
    "itov = {v: k for k, v in vtoi.items()}\n",
    "\n",
    "l = [vocab] * block_size\n",
    "contexts = [\"\".join(p) for p in itertools.product(*l)]\n",
    "ctoi = {c: i for i, c in enumerate(contexts)}\n",
    "itoc = {v: k for k, v in ctoi.items()}\n",
    "\n",
    "vocab[:10], contexts[:10]"
   ]
  },
  {
   "cell_type": "code",
   "execution_count": 4,
   "metadata": {},
   "outputs": [],
   "source": [
    "n = int(len(words)*0.9)\n",
    "train_set = words[:n]\n",
    "test_set  = words[n:]"
   ]
  },
  {
   "cell_type": "code",
   "execution_count": 5,
   "metadata": {},
   "outputs": [],
   "source": [
    "N = torch.zeros(len(contexts), len(vocab), dtype=torch.int64)\n",
    "for w in train_set:\n",
    "  context = \".\" * block_size\n",
    "  for c in w + \".\":\n",
    "    ic = ctoi[context]\n",
    "    il = vtoi[c]\n",
    "\n",
    "    N[ic, il] += 1\n",
    "    context = context[1:] + c\n",
    "\n",
    "# increasing this parameters make the model more uniform\n",
    "smoothing = 1\n",
    "P = (N+smoothing).float()\n",
    "P /= P.sum(1, keepdim=True)"
   ]
  },
  {
   "cell_type": "code",
   "execution_count": 6,
   "metadata": {},
   "outputs": [
    {
     "name": "stdout",
     "output_type": "stream",
     "text": [
      "kimaryn\n",
      "kha\n",
      "jadie\n",
      "sleyon\n",
      "taya\n"
     ]
    }
   ],
   "source": [
    "for _ in range(5):\n",
    "  w = \"\"\n",
    "  context = \".\" * block_size\n",
    "  while True:\n",
    "    ic = ctoi[context]\n",
    "\n",
    "    p = P[ic]\n",
    "    i = torch.multinomial(p, num_samples=1, replacement=True).item()\n",
    "    if i == 0: \n",
    "      print(w)\n",
    "      break\n",
    "\n",
    "    l = itov[i]\n",
    "    w += l\n",
    "    context = context[1:] + l"
   ]
  },
  {
   "cell_type": "code",
   "execution_count": 7,
   "metadata": {},
   "outputs": [
    {
     "name": "stdout",
     "output_type": "stream",
     "text": [
      "2.20 on train set\n",
      "2.41 on test set\n"
     ]
    }
   ],
   "source": [
    "for X in [train_set, test_set]:\n",
    "  logsum = 0\n",
    "  n = 0\n",
    "  for i, x in enumerate(X):\n",
    "    w = '.' * block_size + x + '.'\n",
    "    for i in range(len(w) - block_size):\n",
    "      c = w[i:i+block_size]\n",
    "      ic = ctoi[c]\n",
    "\n",
    "      v = w[i+block_size]\n",
    "      iv = vtoi[v]\n",
    "\n",
    "      p = P[ic, iv]\n",
    "      logsum += p.log()\n",
    "      n += 1\n",
    "  print(f\"{-logsum/n:.2f} on {'train set' if X == train_set else 'test set'}\")"
   ]
  },
  {
   "cell_type": "code",
   "execution_count": null,
   "metadata": {},
   "outputs": [],
   "source": []
  }
 ],
 "metadata": {
  "kernelspec": {
   "display_name": "m",
   "language": "python",
   "name": "python3"
  },
  "language_info": {
   "codemirror_mode": {
    "name": "ipython",
    "version": 3
   },
   "file_extension": ".py",
   "mimetype": "text/x-python",
   "name": "python",
   "nbconvert_exporter": "python",
   "pygments_lexer": "ipython3",
   "version": "3.10.11"
  },
  "orig_nbformat": 4,
  "vscode": {
   "interpreter": {
    "hash": "338bd287b7520b36b007a7679ab8ab96a600267075e95b253dfd38a95fe40f15"
   }
  }
 },
 "nbformat": 4,
 "nbformat_minor": 2
}
